{
 "cells": [
  {
   "cell_type": "code",
   "id": "initial_id",
   "metadata": {
    "collapsed": true,
    "ExecuteTime": {
     "end_time": "2024-08-27T11:12:19.236704Z",
     "start_time": "2024-08-27T11:12:19.234178Z"
    }
   },
   "source": [
    "import json\n",
    "import pandas as pd\n",
    "import numpy as np\n",
    "from pandasql import sqldf\n",
    "from pandas import json_normalize"
   ],
   "outputs": [],
   "execution_count": 427
  },
  {
   "metadata": {
    "ExecuteTime": {
     "end_time": "2024-08-27T11:12:19.458273Z",
     "start_time": "2024-08-27T11:12:19.428253Z"
    }
   },
   "cell_type": "code",
   "source": [
    "df = pd.read_csv('data.csv', parse_dates=['application_date'], date_format='mixed')\n",
    "df[\"contracts\"] = df[\"contracts\"].apply(lambda x: json.loads(x) if pd.notna(x) and x != '' else [])\n",
    "df[\"contracts\"] = df[\"contracts\"].apply(lambda x: [x] if type(x) == dict else x)\n",
    "df[\"id\"] = df[\"id\"].apply(lambda x: np.int64(x))"
   ],
   "id": "ca640ebf99445e60",
   "outputs": [],
   "execution_count": 428
  },
  {
   "metadata": {
    "ExecuteTime": {
     "end_time": "2024-08-27T11:12:19.639084Z",
     "start_time": "2024-08-27T11:12:19.577055Z"
    }
   },
   "cell_type": "code",
   "source": [
    "df_flat = df.explode('contracts')\n",
    "df_flat.to_csv('df_flat.csv',header=True, index=False)"
   ],
   "id": "918c423b94216bd4",
   "outputs": [],
   "execution_count": 429
  },
  {
   "metadata": {
    "ExecuteTime": {
     "end_time": "2024-08-27T11:12:19.754063Z",
     "start_time": "2024-08-27T11:12:19.719553Z"
    }
   },
   "cell_type": "code",
   "source": [
    "df_flat_normalized = json_normalize(df_flat['contracts'])\n",
    "df_flat_normalized.to_csv('df_flat_normalized.csv',header=True, index=False)"
   ],
   "id": "99ae408111272c61",
   "outputs": [],
   "execution_count": 430
  },
  {
   "metadata": {
    "ExecuteTime": {
     "end_time": "2024-08-27T11:12:20.279218Z",
     "start_time": "2024-08-27T11:12:20.230046Z"
    }
   },
   "cell_type": "code",
   "source": [
    "final_df = df_flat.drop(columns=['contracts']).join(df_flat_normalized)\n",
    "final_df['claim_date'] = pd.to_datetime(final_df['claim_date'], dayfirst=True).dt.date\n",
    "final_df['contract_date'] = pd.to_datetime(final_df['contract_date'], dayfirst=True).dt.date\n",
    "\n",
    "final_df.to_csv('final_df.csv',header=True, index=False)"
   ],
   "id": "c23cf48b9c1ed5bd",
   "outputs": [],
   "execution_count": 431
  },
  {
   "metadata": {
    "ExecuteTime": {
     "end_time": "2024-08-27T11:12:21.040470Z",
     "start_time": "2024-08-27T11:12:21.038331Z"
    }
   },
   "cell_type": "code",
   "source": "",
   "id": "ac3f2c59bbc17926",
   "outputs": [],
   "execution_count": 431
  },
  {
   "metadata": {
    "ExecuteTime": {
     "end_time": "2024-08-27T11:15:25.383507Z",
     "start_time": "2024-08-27T11:15:25.295237Z"
    }
   },
   "cell_type": "code",
   "source": [
    "query = \"\"\"\n",
    "\n",
    "SELECT\n",
    "    count(*) as tot_claim_cnt_l180d\n",
    "FROM\n",
    "    final_df\n",
    "WHERE claim_date >= DATE('now', '-200 days') and claim_date is not null\n",
    "order by claim_date desc\n",
    "\"\"\"\n",
    "\n",
    "query = \"\"\"\n",
    "SELECT\n",
    "    bank, sum(loan_summa)\n",
    "FROM\n",
    "    final_df\n",
    "where bank not in ('LIZ', 'LOM', 'MKO', 'SUG') and bank is not null\n",
    "and contract_date is not null\n",
    "group by bank\n",
    "\"\"\"\n",
    "\n",
    "query = \"\"\"\n",
    "SELECT\n",
    "    id, max(contract_date) as max_contract_date\n",
    "FROM\n",
    "    final_df\n",
    "where summa is not null\n",
    "group by id\n",
    "having max_contract_date is not null\n",
    "order by max_contract_date desc\n",
    "\"\"\"\n",
    "\n",
    "\n",
    "res = sqldf(query)\n",
    "res\n",
    "# res.to_csv('res.csv',header=True, index=False)"
   ],
   "id": "ac97d948e5c8c8d5",
   "outputs": [
    {
     "data": {
      "text/plain": [
       "         id max_contract_date\n",
       "0   2926146        2024-01-06\n",
       "1   2926090        2024-01-06\n",
       "2   2926034        2024-01-06\n",
       "3   2925978        2024-01-06\n",
       "4   2926145        2024-01-05\n",
       "..      ...               ...\n",
       "85  2925211        2020-02-17\n",
       "86  2926196        2019-10-30\n",
       "87  2926195        2019-10-30\n",
       "88  2926194        2019-04-05\n",
       "89  2926193        2019-03-18\n",
       "\n",
       "[90 rows x 2 columns]"
      ],
      "text/html": [
       "<div>\n",
       "<style scoped>\n",
       "    .dataframe tbody tr th:only-of-type {\n",
       "        vertical-align: middle;\n",
       "    }\n",
       "\n",
       "    .dataframe tbody tr th {\n",
       "        vertical-align: top;\n",
       "    }\n",
       "\n",
       "    .dataframe thead th {\n",
       "        text-align: right;\n",
       "    }\n",
       "</style>\n",
       "<table border=\"1\" class=\"dataframe\">\n",
       "  <thead>\n",
       "    <tr style=\"text-align: right;\">\n",
       "      <th></th>\n",
       "      <th>id</th>\n",
       "      <th>max_contract_date</th>\n",
       "    </tr>\n",
       "  </thead>\n",
       "  <tbody>\n",
       "    <tr>\n",
       "      <th>0</th>\n",
       "      <td>2926146</td>\n",
       "      <td>2024-01-06</td>\n",
       "    </tr>\n",
       "    <tr>\n",
       "      <th>1</th>\n",
       "      <td>2926090</td>\n",
       "      <td>2024-01-06</td>\n",
       "    </tr>\n",
       "    <tr>\n",
       "      <th>2</th>\n",
       "      <td>2926034</td>\n",
       "      <td>2024-01-06</td>\n",
       "    </tr>\n",
       "    <tr>\n",
       "      <th>3</th>\n",
       "      <td>2925978</td>\n",
       "      <td>2024-01-06</td>\n",
       "    </tr>\n",
       "    <tr>\n",
       "      <th>4</th>\n",
       "      <td>2926145</td>\n",
       "      <td>2024-01-05</td>\n",
       "    </tr>\n",
       "    <tr>\n",
       "      <th>...</th>\n",
       "      <td>...</td>\n",
       "      <td>...</td>\n",
       "    </tr>\n",
       "    <tr>\n",
       "      <th>85</th>\n",
       "      <td>2925211</td>\n",
       "      <td>2020-02-17</td>\n",
       "    </tr>\n",
       "    <tr>\n",
       "      <th>86</th>\n",
       "      <td>2926196</td>\n",
       "      <td>2019-10-30</td>\n",
       "    </tr>\n",
       "    <tr>\n",
       "      <th>87</th>\n",
       "      <td>2926195</td>\n",
       "      <td>2019-10-30</td>\n",
       "    </tr>\n",
       "    <tr>\n",
       "      <th>88</th>\n",
       "      <td>2926194</td>\n",
       "      <td>2019-04-05</td>\n",
       "    </tr>\n",
       "    <tr>\n",
       "      <th>89</th>\n",
       "      <td>2926193</td>\n",
       "      <td>2019-03-18</td>\n",
       "    </tr>\n",
       "  </tbody>\n",
       "</table>\n",
       "<p>90 rows × 2 columns</p>\n",
       "</div>"
      ]
     },
     "execution_count": 447,
     "metadata": {},
     "output_type": "execute_result"
    }
   ],
   "execution_count": 447
  },
  {
   "metadata": {
    "ExecuteTime": {
     "end_time": "2024-08-27T10:25:46.771753Z",
     "start_time": "2024-08-27T10:25:46.769540Z"
    }
   },
   "cell_type": "code",
   "source": "",
   "id": "21668f0895054909",
   "outputs": [],
   "execution_count": 254
  },
  {
   "metadata": {
    "ExecuteTime": {
     "end_time": "2024-08-27T11:01:53.368588Z",
     "start_time": "2024-08-27T11:01:53.366993Z"
    }
   },
   "cell_type": "code",
   "source": "",
   "id": "3c1409c144d7a12",
   "outputs": [],
   "execution_count": 376
  },
  {
   "metadata": {
    "ExecuteTime": {
     "end_time": "2024-08-27T10:57:25.982520Z",
     "start_time": "2024-08-27T10:57:25.981070Z"
    }
   },
   "cell_type": "code",
   "source": "",
   "id": "11bb1f02ee73dbf3",
   "outputs": [],
   "execution_count": 362
  },
  {
   "metadata": {
    "ExecuteTime": {
     "end_time": "2024-08-27T10:25:43.196036Z",
     "start_time": "2024-08-27T10:25:43.194540Z"
    }
   },
   "cell_type": "code",
   "source": "",
   "id": "dcb6dc9b9c2312a2",
   "outputs": [],
   "execution_count": 254
  },
  {
   "metadata": {},
   "cell_type": "code",
   "outputs": [],
   "execution_count": null,
   "source": "",
   "id": "a848c70fe9e8f242"
  }
 ],
 "metadata": {
  "kernelspec": {
   "display_name": "Python 3",
   "language": "python",
   "name": "python3"
  },
  "language_info": {
   "codemirror_mode": {
    "name": "ipython",
    "version": 2
   },
   "file_extension": ".py",
   "mimetype": "text/x-python",
   "name": "python",
   "nbconvert_exporter": "python",
   "pygments_lexer": "ipython2",
   "version": "2.7.6"
  }
 },
 "nbformat": 4,
 "nbformat_minor": 5
}
